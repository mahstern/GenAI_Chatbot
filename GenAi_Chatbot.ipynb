{
  "cells": [
    {
      "cell_type": "code",
      "execution_count": 1,
      "metadata": {
        "id": "YdPa-rcKnK1v"
      },
      "outputs": [],
      "source": [
        "!pip install -q -U google-generativeai"
      ]
    },
    {
      "cell_type": "code",
      "execution_count": 7,
      "metadata": {
        "id": "txOldFbnnYXb"
      },
      "outputs": [],
      "source": [
        "import google.generativeai as genai\n",
        "\n",
        "# Add your (or your company) API Key here. ALERT: Your API Key is a secret data, don't share it with anybody.\n",
        "from google.colab import userdata\n",
        "api_key = userdata.get ('SECRET_KEY')\n",
        "genai.configure (api_key = api_key)"
      ]
    },
    {
      "cell_type": "code",
      "execution_count": 8,
      "metadata": {
        "colab": {
          "base_uri": "https://localhost:8080/",
          "height": 139
        },
        "id": "5S3ERmL3ndbs",
        "outputId": "10f9741a-d829-46de-8fbb-412a24795ed9"
      },
      "outputs": [
        {
          "output_type": "stream",
          "name": "stdout",
          "text": [
            "models/gemini-1.0-pro\n",
            "models/gemini-1.0-pro-001\n",
            "models/gemini-1.0-pro-latest\n",
            "models/gemini-1.0-pro-vision-latest\n",
            "models/gemini-1.5-pro-latest\n",
            "models/gemini-pro\n",
            "models/gemini-pro-vision\n"
          ]
        }
      ],
      "source": [
        "# Disponible models list\n",
        "for m in genai.list_models():\n",
        "  if 'generateContent' in m.supported_generation_methods:\n",
        "    print(m.name)"
      ]
    },
    {
      "cell_type": "code",
      "execution_count": 9,
      "metadata": {
        "id": "8JysenZyoSOS"
      },
      "outputs": [],
      "source": [
        "# Model Filter. If you whant, you can add the Top K and Top P filters here too.\n",
        "generation_config = {\"candidate_count\" : 1,\n",
        "                     \"temperature\" : 0.5, # Definition of randomic model words\n",
        "                      }"
      ]
    },
    {
      "cell_type": "code",
      "execution_count": 10,
      "metadata": {
        "id": "DAuQI_ZeonpG"
      },
      "outputs": [],
      "source": [
        "# Security settings. Here you can edit your filter fpr your context and necesities. Remember: It will impact directaly in the model's responses.\n",
        "safety_settings = {\n",
        "    \"HARASSMENT\" : \"BLOCK_NONE\",\n",
        "    \"HATE\" : \"BLOCK_NONE\",\n",
        "    \"SEXUAL\" : \"BLOCK_NONE\",\n",
        "    \"DANGEROUS\" : \"BLOCK_NONE\",\n",
        "}"
      ]
    },
    {
      "cell_type": "code",
      "execution_count": 11,
      "metadata": {
        "id": "uC_nSriLpRQz"
      },
      "outputs": [],
      "source": [
        "# Starting model\n",
        "model = genai.GenerativeModel(model_name=\"gemini-1.0-pro\",\n",
        "                              generation_config=generation_config,\n",
        "                              safety_settings=safety_settings)"
      ]
    },
    {
      "cell_type": "code",
      "execution_count": 12,
      "metadata": {
        "colab": {
          "base_uri": "https://localhost:8080/",
          "height": 920
        },
        "id": "CQN5q4aNUMk-",
        "outputId": "557a3e7b-4623-4b1c-8c4a-4267ea735680"
      },
      "outputs": [
        {
          "output_type": "stream",
          "name": "stdout",
          "text": [
            "**Course Structure:**\n",
            "\n",
            "**Module 1: Introduction to AI**\n",
            "* Definition and history of AI\n",
            "* Types of AI: Machine learning, deep learning, natural language processing\n",
            "* Applications of AI in various industries\n",
            "\n",
            "**Module 2: Machine Learning**\n",
            "* Supervised learning: Regression, classification\n",
            "* Unsupervised learning: Clustering, dimensionality reduction\n",
            "* Model evaluation and selection\n",
            "\n",
            "**Module 3: Deep Learning**\n",
            "* Neural networks: Architecture and training\n",
            "* Convolutional neural networks (CNNs) for image recognition\n",
            "* Recurrent neural networks (RNNs) for natural language processing\n",
            "\n",
            "**Module 4: Natural Language Processing**\n",
            "* Text representation and processing\n",
            "* Machine translation, text classification, and sentiment analysis\n",
            "* Chatbots and virtual assistants\n",
            "\n",
            "**Module 5: AI Ethics and Responsible Development**\n",
            "* Ethical considerations in AI development\n",
            "* Bias, fairness, and privacy concerns\n",
            "* Responsible AI practices and guidelines\n",
            "\n",
            "**Module 6: AI Applications**\n",
            "* Case studies of AI applications in healthcare, finance, manufacturing, and more\n",
            "* Hands-on projects to demonstrate AI capabilities\n",
            "\n",
            "**Teaching Methods:**\n",
            "\n",
            "* **Interactive lectures:** Engage students with clear explanations and real-world examples.\n",
            "* **Hands-on labs:** Provide practical experience with AI tools and algorithms.\n",
            "* **Group projects:** Foster collaboration and problem-solving skills through group assignments.\n",
            "* **Case studies:** Analyze real-world AI applications to understand their impact and challenges.\n",
            "* **Guest speakers:** Invite industry experts to share their insights and experiences.\n",
            "\n",
            "**Assessment Methods:**\n",
            "\n",
            "* **Quizzes:** Test students' understanding of key concepts.\n",
            "* **Assignments:** Evaluate students' ability to apply AI techniques.\n",
            "* **Projects:** Assess students' ability to solve real-world AI problems.\n",
            "* **Participation:** Encourage active involvement in class discussions and activities.\n",
            "\n",
            "**Additional Tips:**\n",
            "\n",
            "* **Make it accessible:** Use clear and concise language, and provide support for students with different backgrounds.\n",
            "* **Stay up-to-date:** Keep abreast of the latest AI developments and incorporate them into the course.\n",
            "* **Foster a collaborative environment:** Create a space where students can ask questions, share ideas, and learn from each other.\n",
            "* **Provide resources:** Offer additional materials, such as online tutorials, research papers, and industry reports.\n"
          ]
        }
      ],
      "source": [
        "# Test\n",
        "response = model.generate_content(\"I will teach AI content. Give me suggestions.\")\n",
        "print(response.text)"
      ]
    },
    {
      "cell_type": "code",
      "execution_count": null,
      "metadata": {
        "id": "1aK3tShZVNoW"
      },
      "outputs": [],
      "source": [
        "# Starting GenAI chatbot history\n",
        "chat = model.start_chat(history=[])"
      ]
    },
    {
      "cell_type": "code",
      "execution_count": null,
      "metadata": {
        "id": "AhxMIg3YV0pg"
      },
      "outputs": [],
      "source": [
        "# You can change the phrase \"Waiting for question \" as well as the phrase \"End\" to a custom phrase of your choice. Don't forget to keep the double quotes.\n",
        "prompt = input(\"Waiting for question \")\n",
        "\n",
        "while prompt != \"End\":\n",
        "  response = chat.send_message(prompt)\n",
        "  print(\"Response: \", response.text, \"\\n\")\n",
        "  prompt = input(\"Waiting for question \")"
      ]
    }
  ],
  "metadata": {
    "colab": {
      "provenance": [],
      "authorship_tag": "ABX9TyMxA6Vj0eKAXLBaTYlLexRY"
    },
    "kernelspec": {
      "display_name": "Python 3",
      "name": "python3"
    },
    "language_info": {
      "name": "python"
    }
  },
  "nbformat": 4,
  "nbformat_minor": 0
}